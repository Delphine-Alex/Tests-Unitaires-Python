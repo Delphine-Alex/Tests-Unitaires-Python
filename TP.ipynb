{
 "cells": [
  {
   "attachments": {},
   "cell_type": "markdown",
   "metadata": {},
   "source": [
    "Exercice :\n",
    "\n",
    "- Merci de respecter les normes énoncées précédemment\n",
    "- De créer un GitHub sur lequel vous pusherez vos codes.\n",
    "- L’utilisation de la librairie python Unittest est fortement conseillée.\n",
    "- Pour chaque fonction à tester notez en commentaire lorsque vous corrigez un élément.\n",
    "- Les fonctions ci-dessous comportent des bugs qui devront être mis en lumière grâce à vos tests."
   ]
  },
  {
   "attachments": {},
   "cell_type": "markdown",
   "metadata": {},
   "source": [
    "Exercice n°1 :"
   ]
  },
  {
   "cell_type": "code",
   "execution_count": 4,
   "metadata": {},
   "outputs": [
    {
     "name": "stdout",
     "output_type": "stream",
     "text": [
      "12\n"
     ]
    }
   ],
   "source": [
    "class Calculator:\n",
    "\n",
    "    def add(x, y):\n",
    "        return x + y \n",
    "    \n",
    "    def subtract(x, y):\n",
    "        return x - y \n",
    "        \n",
    "    def multiply(x, y):\n",
    "        return x * y \n",
    "    \n",
    "    def divide(x, y):\n",
    "        return x / y \n",
    "    \n",
    "    def power(x, y):\n",
    "        result = 1\n",
    "        for i in range(y):\n",
    "            result *= x \n",
    "        return result\n",
    "\n",
    "    def square_root(x):\n",
    "        if x == 0 or x == 1:\n",
    "            return x \n",
    "        val = x\n",
    "        precision = 0.0000001\n",
    "        while abs(val - x / val) > precision:\n",
    "            val = (val + x / val) / 2 \n",
    "        \n",
    "        return val\n",
    "\n",
    "def calculate(operation, x, y):\n",
    "    if operation == \"add\":\n",
    "        result = Calculator.add(x,y)\n",
    "    elif operation == \"substract\": \n",
    "        result = Calculator.subtract(x,y)\n",
    "    elif operation == \"multiply\":\n",
    "        result = Calculator.multiply(x,y)\n",
    "    elif operation == \"divide\":\n",
    "        result = Calculator.divide(x,y)\n",
    "    elif operation == \"power\":\n",
    "        result = Calculator.power(x,y)\n",
    "    elif operation == \"square_root\": \n",
    "        result = Calculator.square_root(x)\n",
    "    return result\n",
    "\n",
    "operation = input(\"Enter the operation you would like to perform (add, subtract, multiply, divide, square_root, power): \")\n",
    "num1 = int(input(\"Enter the first number : \"))\n",
    "num2 = int(input(\"Enter the second number : \"))\n",
    "\n",
    "print(calculate(operation, num1, num2))"
   ]
  },
  {
   "attachments": {},
   "cell_type": "markdown",
   "metadata": {},
   "source": [
    "Le code ci-dessus définit une classe Calculator qui contient six méthodes : add, subtract, multiply, divide, power et square_root.\n",
    "\n",
    "Vous devez écrire des tests unitaires pour vérifier le bon fonctionnement de chaque méthode. Les tests unitaires peuvent couvrir des cas d'utilisation courants, tels que les entrées valides et les entrées non valides, pour s'assurer que la calculatrice fonctionne correctement dans toutes les situations."
   ]
  },
  {
   "attachments": {},
   "cell_type": "markdown",
   "metadata": {},
   "source": [
    "Exercice n°2 :"
   ]
  },
  {
   "cell_type": "code",
   "execution_count": null,
   "metadata": {},
   "outputs": [],
   "source": [
    "class Book:\n",
    "\n",
    "    def __init__(self, title, author):\n",
    "        self.title = title \n",
    "        self.author = author \n",
    "        self.is_checked_out = False\n",
    "\n",
    "    def check_out(self):\n",
    "        self.is_checked_out = True\n",
    "        print(f\"{self.title} by {self.author} has been checked out.\")\n",
    "\n",
    "    def check_in(self):\n",
    "        self.is_checked_out = False\n",
    "        print(f\"{self.title} by {self.author} has been checked in.\")\n",
    "\n",
    "class Library:\n",
    "    def __init__(self):\n",
    "        self.books = []\n",
    "\n",
    "    def add_book(self, book):\n",
    "        self.books.append(book)\n",
    "        print(f\"{book.title} by {book.author} has been added to the library.\")\n",
    "\n",
    "    def check_out_book(self, title): \n",
    "        for book in self.books:\n",
    "            if book.title == title and not book.is_checked_out:\n",
    "                book.check_out()\n",
    "                return\n",
    "        print(f\"Sorry, {title} is not available.\")\n",
    "\n",
    "    def check_in_book(self, title): \n",
    "        for book in self.books:\n",
    "            if book.title == title and book.is_checked_out:\n",
    "                book.check_in()\n",
    "                return\n",
    "        print(f\"Sorry, {title} is not in the library.\")\n",
    "\n",
    "class Client:\n",
    "    def __init__(self, name):\n",
    "        self.name = name\n",
    "        self.checked_out_books = []\n",
    "\n",
    "    def check_out_book(self, library, title):\n",
    "        for book in library.books:\n",
    "            if book.title == title and not book.is_checked_out:\n",
    "                book.check_out()\n",
    "                self.checked_out_books.append(book)\n",
    "            return\n",
    "        print(f\"Sorry, {title} is not available.\")\n",
    "\n",
    "    def check_in_book(self, library, title):\n",
    "        for book in self.checked_out_books:\n",
    "            if book.title == title: book.check_in()\n",
    "            self.checked_out_books.remove(book)\n",
    "            return\n",
    "        print(f\"Sorry, {title} is not checked out.\") \n",
    "        \n",
    "library = Library()\n",
    "\n",
    "book1 = Book(\"To Kill a Mockingbird\", \"Harper Lee\") \n",
    "library.add_book(book1)\n",
    "\n",
    "book2 = Book(\"Pride and Prejudice\", \"Jane Austen\") \n",
    "library.add_book(book2)\n",
    "\n",
    "client1 = Client(\"John Doe\") \n",
    "client1.check_out_book(library, \"To Kill a Mockingbird\")\n",
    "client1.check_out_book(library, \"Pride and Prejudice\")\n",
    "\n",
    "client2 = Client(\"Jane Doe\") \n",
    "client2.check_out_book(library, \"To Kill a Mockingbird\")\n",
    "client1.check_in_book(library, \"To Kill a Mockingbird\")"
   ]
  },
  {
   "attachments": {},
   "cell_type": "markdown",
   "metadata": {},
   "source": [
    "Le code définit trois classes principales : Book, Library, et Client.\n",
    "\n",
    "La classe Book représente un livre avec un titre, un auteur, et un état is_checked_out indiquant si le livre est actuellement emprunté ou non. Les méthodes check_out et check_in modifient l'état is_checked_out du livre en conséquence. La classe Library représente une librairie, avec une liste de livres books. Les méthodes add_book et check_out_book permettent d'ajouter des livres à la librairie et de les emprunter, respectivement. La méthode check_in_book permet de rapporter un livre. La classe Client représente un client avec un nom et une liste de livres checked_out_books qu'il a actuellement empruntés. Les méthodes check_out_book et check_in_book permettent d'emprunter et de rapporter des livres, respectivement.\n",
    "\n",
    "Le code définit également une instance de la classe Library appelée library, et ajoute deux livres à la librairie. Deux instances de la classe Client sont créées, avec des noms différents, et les deux clients empruntent le même livre. Finalement, un des clients rapporte le livre.\n",
    "\n",
    "Tout comme l’exercice précédent vous devez effectuer les tests pour vous assurer de la robustesse de ce code."
   ]
  }
 ],
 "metadata": {
  "kernelspec": {
   "display_name": "Python 3",
   "language": "python",
   "name": "python3"
  },
  "language_info": {
   "codemirror_mode": {
    "name": "ipython",
    "version": 3
   },
   "file_extension": ".py",
   "mimetype": "text/x-python",
   "name": "python",
   "nbconvert_exporter": "python",
   "pygments_lexer": "ipython3",
   "version": "3.10.8"
  },
  "orig_nbformat": 4,
  "vscode": {
   "interpreter": {
    "hash": "aee8b7b246df8f9039afb4144a1f6fd8d2ca17a180786b69acc140d282b71a49"
   }
  }
 },
 "nbformat": 4,
 "nbformat_minor": 2
}
