{
 "cells": [
  {
   "attachments": {},
   "cell_type": "markdown",
   "metadata": {},
   "source": [
    "Exercice :\n",
    "\n",
    "- Merci de respecter les normes énoncées précédemment\n",
    "- De créer un GitHub sur lequel vous pusherez vos codes.\n",
    "- L’utilisation de la librairie python Unittest est fortement conseillée.\n",
    "- Pour chaque fonction à tester notez en commentaire lorsque vous corrigez un élément.\n",
    "- Les fonctions ci-dessous comportent des bugs qui devront être mis en lumière grâce à vos tests."
   ]
  },
  {
   "attachments": {},
   "cell_type": "markdown",
   "metadata": {},
   "source": [
    "Exercice n°1 :"
   ]
  },
  {
   "cell_type": "code",
   "execution_count": 4,
   "metadata": {},
   "outputs": [
    {
     "name": "stdout",
     "output_type": "stream",
     "text": [
      "12\n"
     ]
    }
   ],
   "source": [
    "class Calculator:\n",
    "\n",
    "    def add(x, y):\n",
    "        return x + y \n",
    "    \n",
    "    def subtract(x, y):\n",
    "        return x - y \n",
    "        \n",
    "    def multiply(x, y):\n",
    "        return x * y \n",
    "    \n",
    "    def divide(x, y):\n",
    "        return x / y \n",
    "    \n",
    "    def power(x, y):\n",
    "        result = 1\n",
    "        for i in range(y):\n",
    "            result *= x \n",
    "        return result\n",
    "\n",
    "    def square_root(x):\n",
    "        if x == 0 or x == 1:\n",
    "            return x \n",
    "        val = x\n",
    "        precision = 0.0000001\n",
    "        while abs(val - x / val) > precision:\n",
    "            val = (val + x / val) / 2 \n",
    "        \n",
    "        return val\n",
    "\n",
    "def calculate(operation, x, y):\n",
    "    if operation == \"add\":\n",
    "        result = Calculator.add(x,y)\n",
    "    elif operation == \"substract\": \n",
    "        result = Calculator.subtract(x,y)\n",
    "    elif operation == \"multiply\":\n",
    "        result = Calculator.multiply(x,y)\n",
    "    elif operation == \"divide\":\n",
    "        result = Calculator.divide(x,y)\n",
    "    elif operation == \"power\":\n",
    "        result = Calculator.power(x,y)\n",
    "    elif operation == \"square_root\": \n",
    "        result = Calculator.square_root(x)\n",
    "    return result\n",
    "\n",
    "operation = input(\"Enter the operation you would like to perform (add, subtract, multiply, divide, square_root, power): \")\n",
    "num1 = int(input(\"Enter the first number : \"))\n",
    "num2 = int(input(\"Enter the second number : \"))\n",
    "\n",
    "print(calculate(operation, num1, num2))"
   ]
  },
  {
   "attachments": {},
   "cell_type": "markdown",
   "metadata": {},
   "source": [
    "Le code ci-dessus définit une classe Calculator qui contient six méthodes : add, subtract, multiply, divide, power et square_root.\n",
    "\n",
    "Vous devez écrire des tests unitaires pour vérifier le bon fonctionnement de chaque méthode. Les tests unitaires peuvent couvrir des cas d'utilisation courants, tels que les entrées valides et les entrées non valides, pour s'assurer que la calculatrice fonctionne correctement dans toutes les situations."
   ]
  }
 ],
 "metadata": {
  "kernelspec": {
   "display_name": "Python 3",
   "language": "python",
   "name": "python3"
  },
  "language_info": {
   "codemirror_mode": {
    "name": "ipython",
    "version": 3
   },
   "file_extension": ".py",
   "mimetype": "text/x-python",
   "name": "python",
   "nbconvert_exporter": "python",
   "pygments_lexer": "ipython3",
   "version": "3.10.8"
  },
  "orig_nbformat": 4,
  "vscode": {
   "interpreter": {
    "hash": "aee8b7b246df8f9039afb4144a1f6fd8d2ca17a180786b69acc140d282b71a49"
   }
  }
 },
 "nbformat": 4,
 "nbformat_minor": 2
}
